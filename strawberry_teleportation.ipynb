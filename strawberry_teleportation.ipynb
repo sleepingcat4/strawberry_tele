{
  "nbformat": 4,
  "nbformat_minor": 0,
  "metadata": {
    "colab": {
      "provenance": []
    },
    "kernelspec": {
      "name": "python3",
      "display_name": "Python 3"
    },
    "language_info": {
      "name": "python"
    }
  },
  "cells": [
    {
      "cell_type": "code",
      "execution_count": 1,
      "metadata": {
        "colab": {
          "base_uri": "https://localhost:8080/"
        },
        "id": "rM7KCmvbDPSr",
        "outputId": "a0a2c9df-12b8-4deb-9878-bd9533939237"
      },
      "outputs": [
        {
          "output_type": "stream",
          "name": "stdout",
          "text": [
            "Collecting strawberryfields\n",
            "  Downloading StrawberryFields-0.23.0-py3-none-any.whl (4.9 MB)\n",
            "\u001b[2K     \u001b[90m━━━━━━━━━━━━━━━━━━━━━━━━━━━━━━━━━━━━━━━━\u001b[0m \u001b[32m4.9/4.9 MB\u001b[0m \u001b[31m781.8 kB/s\u001b[0m eta \u001b[36m0:00:00\u001b[0m\n",
            "\u001b[?25hCollecting PennyLane\n",
            "  Downloading PennyLane-0.36.0-py3-none-any.whl (1.7 MB)\n",
            "\u001b[2K     \u001b[90m━━━━━━━━━━━━━━━━━━━━━━━━━━━━━━━━━━━━━━━━\u001b[0m \u001b[32m1.7/1.7 MB\u001b[0m \u001b[31m34.0 MB/s\u001b[0m eta \u001b[36m0:00:00\u001b[0m\n",
            "\u001b[?25hRequirement already satisfied: networkx>=2.0 in /usr/local/lib/python3.10/dist-packages (from strawberryfields) (3.3)\n",
            "Requirement already satisfied: numba in /usr/local/lib/python3.10/dist-packages (from strawberryfields) (0.58.1)\n",
            "Requirement already satisfied: numpy>=1.17.4 in /usr/local/lib/python3.10/dist-packages (from strawberryfields) (1.25.2)\n",
            "Requirement already satisfied: python-dateutil>=2.8.0 in /usr/local/lib/python3.10/dist-packages (from strawberryfields) (2.8.2)\n",
            "Collecting quantum-blackbird>=0.3.0 (from strawberryfields)\n",
            "  Downloading quantum_blackbird-0.5.0-py3-none-any.whl (48 kB)\n",
            "\u001b[2K     \u001b[90m━━━━━━━━━━━━━━━━━━━━━━━━━━━━━━━━━━━━━━━━\u001b[0m \u001b[32m48.0/48.0 kB\u001b[0m \u001b[31m5.1 MB/s\u001b[0m eta \u001b[36m0:00:00\u001b[0m\n",
            "\u001b[?25hRequirement already satisfied: requests>=2.22.0 in /usr/local/lib/python3.10/dist-packages (from strawberryfields) (2.31.0)\n",
            "Requirement already satisfied: scipy>=1.0.0 in /usr/local/lib/python3.10/dist-packages (from strawberryfields) (1.11.4)\n",
            "Requirement already satisfied: sympy>=1.5 in /usr/local/lib/python3.10/dist-packages (from strawberryfields) (1.12)\n",
            "Collecting thewalrus>=0.18.0 (from strawberryfields)\n",
            "  Downloading thewalrus-0.21.0-py3-none-any.whl (94 kB)\n",
            "\u001b[2K     \u001b[90m━━━━━━━━━━━━━━━━━━━━━━━━━━━━━━━━━━━━━━━━\u001b[0m \u001b[32m94.7/94.7 kB\u001b[0m \u001b[31m12.1 MB/s\u001b[0m eta \u001b[36m0:00:00\u001b[0m\n",
            "\u001b[?25hRequirement already satisfied: toml in /usr/local/lib/python3.10/dist-packages (from strawberryfields) (0.10.2)\n",
            "Requirement already satisfied: urllib3>=1.25.3 in /usr/local/lib/python3.10/dist-packages (from strawberryfields) (2.0.7)\n",
            "Collecting quantum-xir>=0.1.1 (from strawberryfields)\n",
            "  Downloading quantum_xir-0.2.2-py3-none-any.whl (27 kB)\n",
            "Collecting xanadu-cloud-client>=0.2.1 (from strawberryfields)\n",
            "  Downloading xanadu_cloud_client-0.3.2-py3-none-any.whl (25 kB)\n",
            "Collecting rustworkx (from PennyLane)\n",
            "  Downloading rustworkx-0.14.2-cp310-cp310-manylinux_2_17_x86_64.manylinux2014_x86_64.whl (2.1 MB)\n",
            "\u001b[2K     \u001b[90m━━━━━━━━━━━━━━━━━━━━━━━━━━━━━━━━━━━━━━━━\u001b[0m \u001b[32m2.1/2.1 MB\u001b[0m \u001b[31m69.5 MB/s\u001b[0m eta \u001b[36m0:00:00\u001b[0m\n",
            "\u001b[?25hRequirement already satisfied: autograd in /usr/local/lib/python3.10/dist-packages (from PennyLane) (1.6.2)\n",
            "Collecting appdirs (from PennyLane)\n",
            "  Downloading appdirs-1.4.4-py2.py3-none-any.whl (9.6 kB)\n",
            "Collecting semantic-version>=2.7 (from PennyLane)\n",
            "  Downloading semantic_version-2.10.0-py2.py3-none-any.whl (15 kB)\n",
            "Collecting autoray>=0.6.1 (from PennyLane)\n",
            "  Downloading autoray-0.6.12-py3-none-any.whl (50 kB)\n",
            "\u001b[2K     \u001b[90m━━━━━━━━━━━━━━━━━━━━━━━━━━━━━━━━━━━━━━━━\u001b[0m \u001b[32m51.0/51.0 kB\u001b[0m \u001b[31m5.6 MB/s\u001b[0m eta \u001b[36m0:00:00\u001b[0m\n",
            "\u001b[?25hRequirement already satisfied: cachetools in /usr/local/lib/python3.10/dist-packages (from PennyLane) (5.3.3)\n",
            "Collecting pennylane-lightning>=0.36 (from PennyLane)\n",
            "  Downloading PennyLane_Lightning-0.36.0-cp310-cp310-manylinux_2_17_x86_64.manylinux2014_x86_64.whl (19.1 MB)\n",
            "\u001b[2K     \u001b[90m━━━━━━━━━━━━━━━━━━━━━━━━━━━━━━━━━━━━━━━━\u001b[0m \u001b[32m19.1/19.1 MB\u001b[0m \u001b[31m38.1 MB/s\u001b[0m eta \u001b[36m0:00:00\u001b[0m\n",
            "\u001b[?25hRequirement already satisfied: typing-extensions in /usr/local/lib/python3.10/dist-packages (from PennyLane) (4.11.0)\n",
            "Requirement already satisfied: six>=1.5 in /usr/local/lib/python3.10/dist-packages (from python-dateutil>=2.8.0->strawberryfields) (1.16.0)\n",
            "Collecting antlr4-python3-runtime==4.9.2 (from quantum-blackbird>=0.3.0->strawberryfields)\n",
            "  Downloading antlr4-python3-runtime-4.9.2.tar.gz (117 kB)\n",
            "\u001b[2K     \u001b[90m━━━━━━━━━━━━━━━━━━━━━━━━━━━━━━━━━━━━━━━━\u001b[0m \u001b[32m117.2/117.2 kB\u001b[0m \u001b[31m12.1 MB/s\u001b[0m eta \u001b[36m0:00:00\u001b[0m\n",
            "\u001b[?25h  Preparing metadata (setup.py) ... \u001b[?25l\u001b[?25hdone\n",
            "Collecting lark-parser>=0.11.0 (from quantum-xir>=0.1.1->strawberryfields)\n",
            "  Downloading lark_parser-0.12.0-py2.py3-none-any.whl (103 kB)\n",
            "\u001b[2K     \u001b[90m━━━━━━━━━━━━━━━━━━━━━━━━━━━━━━━━━━━━━━━━\u001b[0m \u001b[32m103.5/103.5 kB\u001b[0m \u001b[31m9.8 MB/s\u001b[0m eta \u001b[36m0:00:00\u001b[0m\n",
            "\u001b[?25hRequirement already satisfied: charset-normalizer<4,>=2 in /usr/local/lib/python3.10/dist-packages (from requests>=2.22.0->strawberryfields) (3.3.2)\n",
            "Requirement already satisfied: idna<4,>=2.5 in /usr/local/lib/python3.10/dist-packages (from requests>=2.22.0->strawberryfields) (3.7)\n",
            "Requirement already satisfied: certifi>=2017.4.17 in /usr/local/lib/python3.10/dist-packages (from requests>=2.22.0->strawberryfields) (2024.2.2)\n",
            "Requirement already satisfied: mpmath>=0.19 in /usr/local/lib/python3.10/dist-packages (from sympy>=1.5->strawberryfields) (1.3.0)\n",
            "Requirement already satisfied: dask[delayed] in /usr/local/lib/python3.10/dist-packages (from thewalrus>=0.18.0->strawberryfields) (2023.8.1)\n",
            "Requirement already satisfied: llvmlite<0.42,>=0.41.0dev0 in /usr/local/lib/python3.10/dist-packages (from numba->strawberryfields) (0.41.1)\n",
            "Collecting fire (from xanadu-cloud-client>=0.2.1->strawberryfields)\n",
            "  Downloading fire-0.6.0.tar.gz (88 kB)\n",
            "\u001b[2K     \u001b[90m━━━━━━━━━━━━━━━━━━━━━━━━━━━━━━━━━━━━━━━━\u001b[0m \u001b[32m88.4/88.4 kB\u001b[0m \u001b[31m9.6 MB/s\u001b[0m eta \u001b[36m0:00:00\u001b[0m\n",
            "\u001b[?25h  Preparing metadata (setup.py) ... \u001b[?25l\u001b[?25hdone\n",
            "Requirement already satisfied: pydantic>=2 in /usr/local/lib/python3.10/dist-packages (from xanadu-cloud-client>=0.2.1->strawberryfields) (2.7.1)\n",
            "Collecting pydantic-settings (from xanadu-cloud-client>=0.2.1->strawberryfields)\n",
            "  Downloading pydantic_settings-2.2.1-py3-none-any.whl (13 kB)\n",
            "Collecting python-dotenv (from xanadu-cloud-client>=0.2.1->strawberryfields)\n",
            "  Downloading python_dotenv-1.0.1-py3-none-any.whl (19 kB)\n",
            "Requirement already satisfied: future>=0.15.2 in /usr/local/lib/python3.10/dist-packages (from autograd->PennyLane) (0.18.3)\n",
            "Requirement already satisfied: annotated-types>=0.4.0 in /usr/local/lib/python3.10/dist-packages (from pydantic>=2->xanadu-cloud-client>=0.2.1->strawberryfields) (0.7.0)\n",
            "Requirement already satisfied: pydantic-core==2.18.2 in /usr/local/lib/python3.10/dist-packages (from pydantic>=2->xanadu-cloud-client>=0.2.1->strawberryfields) (2.18.2)\n",
            "Requirement already satisfied: click>=8.0 in /usr/local/lib/python3.10/dist-packages (from dask[delayed]->thewalrus>=0.18.0->strawberryfields) (8.1.7)\n",
            "Requirement already satisfied: cloudpickle>=1.5.0 in /usr/local/lib/python3.10/dist-packages (from dask[delayed]->thewalrus>=0.18.0->strawberryfields) (2.2.1)\n",
            "Requirement already satisfied: fsspec>=2021.09.0 in /usr/local/lib/python3.10/dist-packages (from dask[delayed]->thewalrus>=0.18.0->strawberryfields) (2023.6.0)\n",
            "Requirement already satisfied: packaging>=20.0 in /usr/local/lib/python3.10/dist-packages (from dask[delayed]->thewalrus>=0.18.0->strawberryfields) (24.0)\n",
            "Requirement already satisfied: partd>=1.2.0 in /usr/local/lib/python3.10/dist-packages (from dask[delayed]->thewalrus>=0.18.0->strawberryfields) (1.4.2)\n",
            "Requirement already satisfied: pyyaml>=5.3.1 in /usr/local/lib/python3.10/dist-packages (from dask[delayed]->thewalrus>=0.18.0->strawberryfields) (6.0.1)\n",
            "Requirement already satisfied: toolz>=0.10.0 in /usr/local/lib/python3.10/dist-packages (from dask[delayed]->thewalrus>=0.18.0->strawberryfields) (0.12.1)\n",
            "Requirement already satisfied: importlib-metadata>=4.13.0 in /usr/local/lib/python3.10/dist-packages (from dask[delayed]->thewalrus>=0.18.0->strawberryfields) (7.1.0)\n",
            "Requirement already satisfied: termcolor in /usr/local/lib/python3.10/dist-packages (from fire->xanadu-cloud-client>=0.2.1->strawberryfields) (2.4.0)\n",
            "Requirement already satisfied: zipp>=0.5 in /usr/local/lib/python3.10/dist-packages (from importlib-metadata>=4.13.0->dask[delayed]->thewalrus>=0.18.0->strawberryfields) (3.18.2)\n",
            "Requirement already satisfied: locket in /usr/local/lib/python3.10/dist-packages (from partd>=1.2.0->dask[delayed]->thewalrus>=0.18.0->strawberryfields) (1.0.0)\n",
            "Building wheels for collected packages: antlr4-python3-runtime, fire\n",
            "  Building wheel for antlr4-python3-runtime (setup.py) ... \u001b[?25l\u001b[?25hdone\n",
            "  Created wheel for antlr4-python3-runtime: filename=antlr4_python3_runtime-4.9.2-py3-none-any.whl size=144548 sha256=1e407e1195dfbdc73f382f7ab8c520b17eeabd5b1cf3caefbfa8614a43eb838e\n",
            "  Stored in directory: /root/.cache/pip/wheels/af/c8/1f/dd6d90c5974896e85709e017986a6f72fcf32343bea042bc03\n",
            "  Building wheel for fire (setup.py) ... \u001b[?25l\u001b[?25hdone\n",
            "  Created wheel for fire: filename=fire-0.6.0-py2.py3-none-any.whl size=117029 sha256=32ce7f7776a7097a2ea47fd2370620e5e76271a506dedd92561d1bf90c34a9e4\n",
            "  Stored in directory: /root/.cache/pip/wheels/d6/6d/5d/5b73fa0f46d01a793713f8859201361e9e581ced8c75e5c6a3\n",
            "Successfully built antlr4-python3-runtime fire\n",
            "Installing collected packages: lark-parser, appdirs, antlr4-python3-runtime, semantic-version, rustworkx, quantum-xir, python-dotenv, fire, autoray, quantum-blackbird, pydantic-settings, xanadu-cloud-client, thewalrus, strawberryfields, pennylane-lightning, PennyLane\n",
            "Successfully installed PennyLane-0.36.0 antlr4-python3-runtime-4.9.2 appdirs-1.4.4 autoray-0.6.12 fire-0.6.0 lark-parser-0.12.0 pennylane-lightning-0.36.0 pydantic-settings-2.2.1 python-dotenv-1.0.1 quantum-blackbird-0.5.0 quantum-xir-0.2.2 rustworkx-0.14.2 semantic-version-2.10.0 strawberryfields-0.23.0 thewalrus-0.21.0 xanadu-cloud-client-0.3.2\n"
          ]
        }
      ],
      "source": [
        "!pip install strawberryfields PennyLane"
      ]
    },
    {
      "cell_type": "code",
      "source": [
        "import strawberryfields as sf\n",
        "from strawberryfields.ops import *\n",
        "\n",
        "import numpy as np\n",
        "from numpy import pi, sqrt\n",
        "\n",
        "# set the random seed\n",
        "np.random.seed(42)"
      ],
      "metadata": {
        "id": "tV4Q7BPpDtYJ"
      },
      "execution_count": 2,
      "outputs": []
    },
    {
      "cell_type": "code",
      "source": [
        "prog = sf.Program(3, name=\"Quantum teleportation\") # defining our Quantum program on 3 Quantum registers"
      ],
      "metadata": {
        "id": "l5Ud3QmMEGho"
      },
      "execution_count": 3,
      "outputs": []
    },
    {
      "cell_type": "markdown",
      "source": [
        "We are now using Blackbird programming language"
      ],
      "metadata": {
        "id": "oQ1i7AqEKzjL"
      }
    },
    {
      "cell_type": "markdown",
      "source": [
        "to apply gates and modify stuff we need to be inside of program and apply them on Quantum registers. To do that, we use ```with``` statement"
      ],
      "metadata": {
        "id": "xg4nZCLVK_N7"
      }
    },
    {
      "cell_type": "code",
      "source": [
        "α = 1+0.5j\n",
        "r = np.abs(α)\n",
        "ϕ = np.angle(α)"
      ],
      "metadata": {
        "id": "0Vxd8j67KqBa"
      },
      "execution_count": 4,
      "outputs": []
    },
    {
      "cell_type": "code",
      "source": [
        "with prog.context as q:\n",
        "  # prepare initial state\n",
        "  Coherent(r, ϕ) | q[0]\n",
        "  Squeezed(-2) | q[0]\n",
        "  Squeezed(2) | q[2]\n",
        "\n",
        "  # apply gates\n",
        "  BS = BSgate(pi/4, pi)\n",
        "  BS | (q[1], q[2])\n",
        "  BS | (q[0], q[1])\n",
        "\n",
        "  # perform homodyne measurement\n",
        "  MeasureX | q[0]\n",
        "  MeasureP | q[1]\n",
        "\n",
        "  # Displacement gates conditioned on\n",
        "  # the measurements\n",
        "  Xgate(sqrt(2) * q[0].par) | q[2]\n",
        "  Zgate(-sqrt(2) * q[1].par) | q[2]"
      ],
      "metadata": {
        "id": "WkPa6INILs5I"
      },
      "execution_count": 6,
      "outputs": []
    },
    {
      "cell_type": "code",
      "source": [
        "eng = sf.Engine('fock', backend_options={\"cutoff_dim\": 15})\n",
        "result = eng.run(prog, shots=1, modes=None, compile_options={})"
      ],
      "metadata": {
        "id": "n2DRkYshMiJt"
      },
      "execution_count": 10,
      "outputs": []
    },
    {
      "cell_type": "code",
      "source": [
        "state = result.state\n",
        "print(state.dm().shape)"
      ],
      "metadata": {
        "colab": {
          "base_uri": "https://localhost:8080/"
        },
        "id": "a_Us82lENpQ3",
        "outputId": "035f3af3-9893-462a-909d-ff221e6214e0"
      },
      "execution_count": 12,
      "outputs": [
        {
          "output_type": "stream",
          "name": "stdout",
          "text": [
            "(15, 15, 15, 15, 15, 15)\n"
          ]
        }
      ]
    },
    {
      "cell_type": "code",
      "source": [
        "# calculating the reduced density\n",
        "rho2 =  np.einsum('kkllij->ij', state.dm())\n",
        "print(rho2.shape)\n",
        "probs = np.real_if_close(np.diagonal(rho2))\n",
        "print(probs)"
      ],
      "metadata": {
        "colab": {
          "base_uri": "https://localhost:8080/"
        },
        "id": "Ye-Z8r8qO1Cu",
        "outputId": "b103f70e-2fa6-48c2-ec9d-59415fcdee81"
      },
      "execution_count": 14,
      "outputs": [
        {
          "output_type": "stream",
          "name": "stdout",
          "text": [
            "(15, 15)\n",
            "[0.30665819 0.14370457 0.07647909 0.09088425 0.05594048 0.05887198\n",
            " 0.04620712 0.04352952 0.03745901 0.033894   0.03017794 0.02650903\n",
            " 0.02291758 0.01367794 0.00753544]\n"
          ]
        }
      ]
    },
    {
      "cell_type": "code",
      "source": [
        "from matplotlib import pyplot as plt\n",
        "plt.bar(range(7), probs[:7])\n",
        "plt.xlabel('Fock state')\n",
        "plt.ylabel('Marginal probability')\n",
        "plt.title('Mode 2')\n",
        "plt.show()"
      ],
      "metadata": {
        "colab": {
          "base_uri": "https://localhost:8080/",
          "height": 472
        },
        "id": "CST79IwjPQGH",
        "outputId": "b7e5ae63-26cb-46c9-cf71-76e61800a6c0"
      },
      "execution_count": 15,
      "outputs": [
        {
          "output_type": "display_data",
          "data": {
            "text/plain": [
              "<Figure size 640x480 with 1 Axes>"
            ],
            "image/png": "[encoded data removed]"
          },
          "metadata": {}
        }
      ]
    },
    {
      "cell_type": "code",
      "source": [],
      "metadata": {
        "id": "ra3GIQd-PULe"
      },
      "execution_count": null,
      "outputs": []
    }
  ]
}